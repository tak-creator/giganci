{
  "nbformat": 4,
  "nbformat_minor": 0,
  "metadata": {
    "colab": {
      "provenance": [],
      "authorship_tag": "ABX9TyOSs0aEOFuenCN63TVz7pDy",
      "include_colab_link": true
    },
    "kernelspec": {
      "name": "python3",
      "display_name": "Python 3"
    },
    "language_info": {
      "name": "python"
    }
  },
  "cells": [
    {
      "cell_type": "markdown",
      "metadata": {
        "id": "view-in-github",
        "colab_type": "text"
      },
      "source": [
        "<a href=\"https://colab.research.google.com/github/tak-creator/giganci/blob/main/statystyka%26regresja.ipynb\" target=\"_parent\"><img src=\"https://colab.research.google.com/assets/colab-badge.svg\" alt=\"Open In Colab\"/></a>"
      ]
    },
    {
      "source": [
        "list_number=[4,2,7,2,8,2,9,7,7]\n",
        "\n",
        "#znajdz mode\n",
        "def find(list_number):\n",
        "    zlicz = [0,0,0,0,0,0,0,0,0]\n",
        "    for number in list_number:\n",
        "        zlicz[number-1]+=1\n",
        "    #print(zlicz)\n",
        "    max = 0\n",
        "    index = 0\n",
        "    for i, licz in enumerate(zlicz):\n",
        "        if (licz > max):\n",
        "            max = licz\n",
        "            index_do_zwrotu = index\n",
        "        index+=1\n",
        "    print(index_do_zwrotu+1)\n",
        "find(list_number)"
      ],
      "cell_type": "code",
      "metadata": {
        "colab": {
          "base_uri": "https://localhost:8080/"
        },
        "id": "W6tbz9Lm6iWy",
        "outputId": "578fd41b-d1f6-4d3e-b5c1-d7227917da08"
      },
      "execution_count": 22,
      "outputs": [
        {
          "output_type": "stream",
          "name": "stdout",
          "text": [
            "2\n"
          ]
        }
      ]
    },
    {
      "cell_type": "markdown",
      "source": [
        "### using statistics"
      ],
      "metadata": {
        "id": "oa1oF4ZG6y-q"
      }
    },
    {
      "cell_type": "code",
      "source": [
        "import statistics\n",
        "\n",
        "dataa = [4,2,7,2,8,2,9,7,7]\n",
        "mode_value = statistics.mode(dataa)\n",
        "print(\"The mode is:\", mode_value)"
      ],
      "metadata": {
        "colab": {
          "base_uri": "https://localhost:8080/"
        },
        "id": "FBQBkYpq46TZ",
        "outputId": "f1d46d0d-a9d1-4319-f5ef-0ea13d930423"
      },
      "execution_count": 23,
      "outputs": [
        {
          "output_type": "stream",
          "name": "stdout",
          "text": [
            "The mode is: 2\n"
          ]
        }
      ]
    },
    {
      "cell_type": "markdown",
      "source": [
        "### using counter"
      ],
      "metadata": {
        "id": "jAUiaxeM67hc"
      }
    },
    {
      "cell_type": "code",
      "source": [
        "from collections import Counter\n",
        "\n",
        "def find_mode(lst):\n",
        "    counts = Counter(lst)\n",
        "    max_count = max(counts.values())\n",
        "    # Retrieve all elements that occur the maximum number of times\n",
        "    modes = [k for k, v in counts.items() if v == max_count]\n",
        "    return modes\n",
        "\n",
        "data = [0,0,7,2,8,2,0,7,7]\n",
        "modes = find_mode(data)\n",
        "print(\"The mode(s):\", modes)\n"
      ],
      "metadata": {
        "colab": {
          "base_uri": "https://localhost:8080/"
        },
        "id": "DJ7ZxDjn5FvQ",
        "outputId": "aeb2d5ab-9d51-4fb8-8485-8ff97a14295f"
      },
      "execution_count": 24,
      "outputs": [
        {
          "output_type": "stream",
          "name": "stdout",
          "text": [
            "The mode(s): [0, 7]\n"
          ]
        }
      ]
    },
    {
      "cell_type": "code",
      "source": [
        "import numpy as np\n",
        "import matplotlib.pyplot as plt\n",
        "\n",
        "np.random.seed(90)\n",
        "# generowanie 100 punktów osi x w zakresie 0 do 75\n",
        "x = np.linspace(0, 75, 100)\n",
        "print(x)\n",
        "\n",
        "noise = np.random.normal(-25, 25, 100)\n",
        "\n",
        "#generowanie wartosci y\n",
        "y =2*x + 5 + noise\n",
        "print(y)\n",
        "\n",
        "#funkcja regresji\n",
        "def regression(x,y):\n",
        "    suma_x_y = 0\n",
        "    suma_x = sum(x)\n",
        "    suma_y = sum(y)\n",
        "    suma_x_kw = sum(xi**2 for xi in x)\n",
        "\n",
        "    for x_val, y_val in zip(x,y):\n",
        "        suma_x_y += x_val*y_val\n",
        "\n",
        "\n",
        "    a = (100*suma_x_y - suma_x*suma_y)/(100*suma_x_kw - suma_x**2)\n",
        "    b = (suma_y - a*suma_x)/100\n",
        "    return a, b  # Return the calculated 'a' and 'b'\n",
        "\n",
        "# Call the regression function to get 'a' and 'b'\n",
        "a, b = regression(x, y)\n",
        "\n",
        "# Now, plot the scatter points and the regression line\n",
        "regression_line =  a * x + b\n",
        "plt.scatter(x, y, label='Data Points')  # Plot the scatter points\n",
        "plt.plot(x, regression_line, color='red', label='Regression Line')  # Plot the line\n",
        "\n",
        "# Add labels and a legend\n",
        "plt.xlabel('X-axis')\n",
        "plt.ylabel('Y-axis')\n",
        "plt.title('Scatter Plot with Regression Line')\n",
        "plt.legend()\n",
        "\n",
        "# Show the plot\n",
        "plt.show()"
      ],
      "metadata": {
        "colab": {
          "base_uri": "https://localhost:8080/",
          "height": 1000
        },
        "id": "yDxn9c6ycMj4",
        "outputId": "d130a742-da24-47c0-8fbe-38dce9adcaca"
      },
      "execution_count": 25,
      "outputs": [
        {
          "output_type": "stream",
          "name": "stdout",
          "text": [
            "[ 0.          0.75757576  1.51515152  2.27272727  3.03030303  3.78787879\n",
            "  4.54545455  5.3030303   6.06060606  6.81818182  7.57575758  8.33333333\n",
            "  9.09090909  9.84848485 10.60606061 11.36363636 12.12121212 12.87878788\n",
            " 13.63636364 14.39393939 15.15151515 15.90909091 16.66666667 17.42424242\n",
            " 18.18181818 18.93939394 19.6969697  20.45454545 21.21212121 21.96969697\n",
            " 22.72727273 23.48484848 24.24242424 25.         25.75757576 26.51515152\n",
            " 27.27272727 28.03030303 28.78787879 29.54545455 30.3030303  31.06060606\n",
            " 31.81818182 32.57575758 33.33333333 34.09090909 34.84848485 35.60606061\n",
            " 36.36363636 37.12121212 37.87878788 38.63636364 39.39393939 40.15151515\n",
            " 40.90909091 41.66666667 42.42424242 43.18181818 43.93939394 44.6969697\n",
            " 45.45454545 46.21212121 46.96969697 47.72727273 48.48484848 49.24242424\n",
            " 50.         50.75757576 51.51515152 52.27272727 53.03030303 53.78787879\n",
            " 54.54545455 55.3030303  56.06060606 56.81818182 57.57575758 58.33333333\n",
            " 59.09090909 59.84848485 60.60606061 61.36363636 62.12121212 62.87878788\n",
            " 63.63636364 64.39393939 65.15151515 65.90909091 66.66666667 67.42424242\n",
            " 68.18181818 68.93939394 69.6969697  70.45454545 71.21212121 71.96969697\n",
            " 72.72727273 73.48484848 74.24242424 75.        ]\n",
            "[-25.6121667  -24.17294697 -31.75467024 -35.43523681  15.81334358\n",
            " -46.57161406   7.11480652 -42.53298321  38.54450332  24.81587207\n",
            " -38.70494396 -21.8451701    4.03370384 -34.35889923   1.55900656\n",
            "  35.46637812  31.29431121  25.30629431 -24.23748369  47.78089451\n",
            "  20.78418766  13.92782749  37.56508404  52.18390422  57.57476962\n",
            "  40.39845682  15.76836237  51.61910881  36.97258543  25.46073492\n",
            "  22.15212978 -18.64438906  38.85818096  60.40928693   3.42366923\n",
            "  78.62379223  16.98680271  61.28441155  23.81203538  74.80033214\n",
            "  55.14952545  78.13838123  95.7649664   13.23188063  64.24288951\n",
            "  51.47708461  53.42499682  52.75545555  51.61783665  40.60026425\n",
            "  37.89779273  63.18226698  53.61045795  64.73515764  80.24941943\n",
            "  71.00742307  64.82692666  37.09534327  15.74383605  62.30400273\n",
            "  72.46179182  54.05354098  39.55117739  98.19247262  80.56015946\n",
            "  54.77250423  72.54469807  72.98733578  87.74667251  52.82556696\n",
            "  87.21819259  87.80539444  85.69124767 108.10047752  91.08034743\n",
            "  62.34764471 109.27642025  71.33117502  90.6428996  114.11400791\n",
            " 117.29410288  91.06235747 113.54565835 106.0935474  112.69604425\n",
            " 128.57998191  84.46136157 136.59580889  69.9493203   80.72942237\n",
            " 161.0791618  123.38617833 135.50006103 122.16237521 137.36045325\n",
            " 103.91768997 103.91431949 123.08077856 123.94882832  85.49412653]\n"
          ]
        },
        {
          "output_type": "display_data",
          "data": {
            "text/plain": [
              "<Figure size 640x480 with 1 Axes>"
            ],
            "image/png": "[encoded data removed]"
          },
          "metadata": {}
        }
      ]
    }
  ]
}