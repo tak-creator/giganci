{
  "nbformat": 4,
  "nbformat_minor": 0,
  "metadata": {
    "colab": {
      "provenance": [],
      "authorship_tag": "ABX9TyNqLTI3E+AHz4lB4D8bubVt",
      "include_colab_link": true
    },
    "kernelspec": {
      "name": "python3",
      "display_name": "Python 3"
    },
    "language_info": {
      "name": "python"
    }
  },
  "cells": [
    {
      "cell_type": "markdown",
      "metadata": {
        "id": "view-in-github",
        "colab_type": "text"
      },
      "source": [
        "<a href=\"https://colab.research.google.com/github/tak-creator/giganci/blob/main/Symulator_tytanica.ipynb\" target=\"_parent\"><img src=\"https://colab.research.google.com/assets/colab-badge.svg\" alt=\"Open In Colab\"/></a>"
      ]
    },
    {
      "source": [
        "import pandas as pd\n",
        "import seaborn as sns\n",
        "import matplotlib.pyplot as plt\n",
        "from sklearn.model_selection import train_test_split\n",
        "from sklearn.linear_model import LogisticRegression\n",
        "from sklearn.metrics import accuracy_score, precision_score, recall_score, f1_score, classification_report, confusion_matrix\n",
        "from sklearn.preprocessing import StandardScaler\n",
        "\n",
        "df = sns.load_dataset('titanic')\n",
        "print(df.head(200))"
      ],
      "cell_type": "code",
      "metadata": {
        "colab": {
          "base_uri": "https://localhost:8080/"
        },
        "id": "Z7x26O0dpOa7",
        "outputId": "72f0ae4d-831b-48f6-d848-2ff24d7c9ce6"
      },
      "execution_count": 21,
      "outputs": [
        {
          "output_type": "stream",
          "name": "stdout",
          "text": [
            "     survived  pclass     sex   age  sibsp  parch      fare embarked   class  \\\n",
            "0           0       3    male  22.0      1      0    7.2500        S   Third   \n",
            "1           1       1  female  38.0      1      0   71.2833        C   First   \n",
            "2           1       3  female  26.0      0      0    7.9250        S   Third   \n",
            "3           1       1  female  35.0      1      0   53.1000        S   First   \n",
            "4           0       3    male  35.0      0      0    8.0500        S   Third   \n",
            "..        ...     ...     ...   ...    ...    ...       ...      ...     ...   \n",
            "195         1       1  female  58.0      0      0  146.5208        C   First   \n",
            "196         0       3    male   NaN      0      0    7.7500        Q   Third   \n",
            "197         0       3    male  42.0      0      1    8.4042        S   Third   \n",
            "198         1       3  female   NaN      0      0    7.7500        Q   Third   \n",
            "199         0       2  female  24.0      0      0   13.0000        S  Second   \n",
            "\n",
            "       who  adult_male deck  embark_town alive  alone  \n",
            "0      man        True  NaN  Southampton    no  False  \n",
            "1    woman       False    C    Cherbourg   yes  False  \n",
            "2    woman       False  NaN  Southampton   yes   True  \n",
            "3    woman       False    C  Southampton   yes  False  \n",
            "4      man        True  NaN  Southampton    no   True  \n",
            "..     ...         ...  ...          ...   ...    ...  \n",
            "195  woman       False    B    Cherbourg   yes   True  \n",
            "196    man        True  NaN   Queenstown    no   True  \n",
            "197    man        True  NaN  Southampton    no  False  \n",
            "198  woman       False  NaN   Queenstown   yes   True  \n",
            "199  woman       False  NaN  Southampton    no   True  \n",
            "\n",
            "[200 rows x 15 columns]\n"
          ]
        }
      ]
    },
    {
      "cell_type": "code",
      "source": [
        "print(df.iloc[0], '\\n')\n",
        "print(df.iloc[:, 1])"
      ],
      "metadata": {
        "id": "fTbtfirW6Ffd",
        "colab": {
          "base_uri": "https://localhost:8080/"
        },
        "outputId": "563359af-0d61-4d34-cfe0-58d21bbf7781"
      },
      "execution_count": 22,
      "outputs": [
        {
          "output_type": "stream",
          "name": "stdout",
          "text": [
            "survived                 0\n",
            "pclass                   3\n",
            "sex                   male\n",
            "age                   22.0\n",
            "sibsp                    1\n",
            "parch                    0\n",
            "fare                  7.25\n",
            "embarked                 S\n",
            "class                Third\n",
            "who                    man\n",
            "adult_male            True\n",
            "deck                   NaN\n",
            "embark_town    Southampton\n",
            "alive                   no\n",
            "alone                False\n",
            "Name: 0, dtype: object \n",
            "\n",
            "0      3\n",
            "1      1\n",
            "2      3\n",
            "3      1\n",
            "4      3\n",
            "      ..\n",
            "886    2\n",
            "887    1\n",
            "888    3\n",
            "889    1\n",
            "890    3\n",
            "Name: pclass, Length: 891, dtype: int64\n"
          ]
        }
      ]
    },
    {
      "cell_type": "code",
      "source": [
        "print(\"\\nLiczba brakujących wartości przed czyszczeniem:\")\n",
        "print(df.isnull().sum())"
      ],
      "metadata": {
        "colab": {
          "base_uri": "https://localhost:8080/"
        },
        "id": "4xrDXvS-jGs5",
        "outputId": "008f4ba0-8605-45a6-9472-e84705935a2d"
      },
      "execution_count": 23,
      "outputs": [
        {
          "output_type": "stream",
          "name": "stdout",
          "text": [
            "\n",
            "Liczba brakujących wartości przed czyszczeniem:\n",
            "survived         0\n",
            "pclass           0\n",
            "sex              0\n",
            "age            177\n",
            "sibsp            0\n",
            "parch            0\n",
            "fare             0\n",
            "embarked         2\n",
            "class            0\n",
            "who              0\n",
            "adult_male       0\n",
            "deck           688\n",
            "embark_town      2\n",
            "alive            0\n",
            "alone            0\n",
            "dtype: int64\n"
          ]
        }
      ]
    },
    {
      "cell_type": "markdown",
      "source": [
        "`dropna()` to funkcja w Pandas, która usuwa wiersze lub kolumny zawierające brakujące dane (NaN)"
      ],
      "metadata": {
        "id": "upiGZUHul2wl"
      }
    },
    {
      "cell_type": "code",
      "source": [
        "# Usunięcie rekordów z brakującą daną w poli 'age' i wyświetlenie danych o liczbie wierszy\n",
        "df = df.dropna(subset=['age'])\n",
        "\n",
        "print(\"\\nLiczba brakujących wartości po czyszczeniu (tylko age):\")\n",
        "print(df.isnull().sum())"
      ],
      "metadata": {
        "id": "IYG7Fgvel7a4",
        "outputId": "0ed7605d-f9c8-46ec-aef0-4ed26925a793",
        "colab": {
          "base_uri": "https://localhost:8080/"
        }
      },
      "execution_count": 24,
      "outputs": [
        {
          "output_type": "stream",
          "name": "stdout",
          "text": [
            "\n",
            "Liczba brakujących wartości po czyszczeniu (tylko age):\n",
            "survived         0\n",
            "pclass           0\n",
            "sex              0\n",
            "age              0\n",
            "sibsp            0\n",
            "parch            0\n",
            "fare             0\n",
            "embarked         2\n",
            "class            0\n",
            "who              0\n",
            "adult_male       0\n",
            "deck           530\n",
            "embark_town      2\n",
            "alive            0\n",
            "alone            0\n",
            "dtype: int64\n"
          ]
        }
      ]
    },
    {
      "cell_type": "code",
      "source": [
        "print(f\"\\nLiczba wierszy przed czyszczeniem: {len(sns.load_dataset('titanic'))}\")\n",
        "print(f\"Liczba wierszy po czyszczeniu: {len(df)}\")"
      ],
      "metadata": {
        "id": "aVIlaEAql-ka",
        "outputId": "90e774cb-8925-485c-b40a-72e55c0a3094",
        "colab": {
          "base_uri": "https://localhost:8080/"
        }
      },
      "execution_count": 25,
      "outputs": [
        {
          "output_type": "stream",
          "name": "stdout",
          "text": [
            "\n",
            "Liczba wierszy przed czyszczeniem: 891\n",
            "Liczba wierszy po czyszczeniu: 714\n"
          ]
        }
      ]
    },
    {
      "cell_type": "code",
      "source": [
        "# Sekcja 3: Kategoryzacja opłat za bilety\n",
        "def categorize_fare(fare, fare_ranges):\n",
        "    if fare <= fare_ranges[0]:\n",
        "        return 0  # niska\n",
        "    elif fare <= fare_ranges[1]:\n",
        "        return 1  # średnia\n",
        "    else:\n",
        "        return 2  # wysoka\n",
        "    #macierz pomyłek\n",
        "min_fare = df['fare'].min()\n",
        "max_fare = df['fare'].max()\n",
        "fare_step = (max_fare - min_fare) / 3\n",
        "fare_ranges = [min_fare + fare_step, min_fare + 2 * fare_step]\n",
        "\n",
        "print(\"\\nPrzedziały cenowe biletów:\")\n",
        "print(f\"Niska: {min_fare:.2f} - {fare_ranges[0]:.2f}\")\n",
        "print(f\"Średnia: {fare_ranges[0]:.2f} - {fare_ranges[1]:.2f}\")\n",
        "print(f\"Wysoka: {fare_ranges[1]:.2f} - {max_fare:.2f}\")"
      ],
      "metadata": {
        "colab": {
          "base_uri": "https://localhost:8080/"
        },
        "id": "6r3iw6YuDwNi",
        "outputId": "7b4b4a66-151c-451f-98a1-517c64c2dca6"
      },
      "execution_count": 26,
      "outputs": [
        {
          "output_type": "stream",
          "name": "stdout",
          "text": [
            "\n",
            "Przedziały cenowe biletów:\n",
            "Niska: 0.00 - 170.78\n",
            "Średnia: 170.78 - 341.55\n",
            "Wysoka: 341.55 - 512.33\n"
          ]
        }
      ]
    },
    {
      "cell_type": "markdown",
      "source": [
        "`.map` to metoda, która zastępuje każdą wartość w kolumnie (Series) inną wartością według podanego słownika lub funkcji"
      ],
      "metadata": {
        "id": "cKm3TZMAhltP"
      }
    },
    {
      "cell_type": "code",
      "source": [
        "# Sekcja 4: Przygotowanie danych do modelowania\n",
        "selected_features = ['sex', 'pclass', 'age', 'fare_category']\n",
        "df_model = df.copy()\n",
        "df_model['sex'] = df_model['sex'].map({'male': 0, 'female': 1}) #\n",
        "df_model['fare_category'] = df_model['fare'].apply(lambda x: categorize_fare(x, fare_ranges))"
      ],
      "metadata": {
        "id": "njgGXfzHhqBe"
      },
      "execution_count": 27,
      "outputs": []
    },
    {
      "cell_type": "code",
      "source": [
        "# Sekcja 5: Podział danych i skalowanie\n",
        "# Przygotowanie danych\n",
        "X = df_model[selected_features]\n",
        "y = df_model['survived']\n",
        "\n",
        "# Podział na zbiór treningowy i testowy\n",
        "X_train, X_test, y_train, y_test = train_test_split(X, y, test_size=0.2, random_state=42)\n",
        "\n",
        "# Skalowanie danych\n",
        "scaler = StandardScaler()\n",
        "X_train_scaled = scaler.fit_transform(X_train)\n",
        "X_test_scaled = scaler.transform(X_test)"
      ],
      "metadata": {
        "id": "Cu2USTcEh-D2"
      },
      "execution_count": 28,
      "outputs": []
    },
    {
      "cell_type": "code",
      "source": [
        "# Sekcja 6: Trenowanie i ocena modelu\n",
        "model = LogisticRegression(\n",
        "    random_state=42,          # zapewnia powtarzalność wyników\n",
        "    C=0.2               # siła regularyzacji (odwrotność)\n",
        ")\n",
        "model.fit(X_train_scaled, y_train)\n",
        "\n",
        "y_pred = model.predict(X_test_scaled)\n",
        "accuracy = accuracy_score(y_test, y_pred)\n",
        "\n",
        "print(\"\\nWyniki modelu:\")\n",
        "print(f\"Dokładność modelu: {accuracy:.3f}\")"
      ],
      "metadata": {
        "colab": {
          "base_uri": "https://localhost:8080/"
        },
        "id": "NSyWsatXiYj7",
        "outputId": "4ed24b6c-ce5f-4d8c-90ce-3aab12a6efce"
      },
      "execution_count": 29,
      "outputs": [
        {
          "output_type": "stream",
          "name": "stdout",
          "text": [
            "\n",
            "Wyniki modelu:\n",
            "Dokładność modelu: 0.741\n"
          ]
        }
      ]
    },
    {
      "cell_type": "code",
      "source": [
        "# Sekcja 7: Analiza metryk i macierzy pomyłek\n",
        "print(\"\\nRaport klasyfikacji:\")\n",
        "print(classification_report(y_test, y_pred))\n",
        "\n",
        "conf_matrix = confusion_matrix(y_test, y_pred)\n",
        "\n",
        "tn, fp, fn, tp = conf_matrix.ravel()\n",
        "sensitivity = tp / (tp + fn)\n",
        "precision = tp / (tp + fp)\n",
        "f1 = 2 * (precision * sensitivity) / (precision + sensitivity)\n",
        "\n",
        "print(f\"\\nDodatkowe metryki:\")\n",
        "print(f\"Czułość (recall): {sensitivity:.3f}\")\n",
        "print(f\"Precyzja: {precision:.3f}\")\n",
        "print(f\"F1 Score: {f1:.3f}\")"
      ],
      "metadata": {
        "colab": {
          "base_uri": "https://localhost:8080/"
        },
        "id": "j_eGsvdMieoq",
        "outputId": "4ea6b507-de15-48b6-9c2f-2dc98137a203"
      },
      "execution_count": 30,
      "outputs": [
        {
          "output_type": "stream",
          "name": "stdout",
          "text": [
            "\n",
            "Raport klasyfikacji:\n",
            "              precision    recall  f1-score   support\n",
            "\n",
            "           0       0.78      0.79      0.79        87\n",
            "           1       0.67      0.66      0.67        56\n",
            "\n",
            "    accuracy                           0.74       143\n",
            "   macro avg       0.73      0.73      0.73       143\n",
            "weighted avg       0.74      0.74      0.74       143\n",
            "\n",
            "\n",
            "Dodatkowe metryki:\n",
            "Czułość (recall): 0.661\n",
            "Precyzja: 0.673\n",
            "F1 Score: 0.667\n"
          ]
        }
      ]
    },
    {
      "cell_type": "code",
      "source": [
        "# Sekcja 8: Wizualizacja macierzy pomyłek\n",
        "plt.figure(figsize=(10, 8))\n",
        "sns.heatmap(conf_matrix,\n",
        "            annot=True,\n",
        "            fmt='d',\n",
        "            cmap='Blues',\n",
        "            xticklabels=['Nie przeżył', 'Przeżył'],\n",
        "            yticklabels=['Nie przeżył', 'Przeżył'])\n",
        "plt.title('Macierz pomyłek')\n",
        "plt.xlabel('Przewidywane')\n",
        "plt.ylabel('Rzeczywiste')\n",
        "plt.tight_layout()\n",
        "plt.show()"
      ],
      "metadata": {
        "colab": {
          "base_uri": "https://localhost:8080/",
          "height": 807
        },
        "id": "t0avQauNiwaZ",
        "outputId": "a06d141a-7337-47f9-df45-a48ac03611c0"
      },
      "execution_count": 31,
      "outputs": [
        {
          "output_type": "display_data",
          "data": {
            "text/plain": [
              "<Figure size 1000x800 with 2 Axes>"
            ],
            "image/png": "[encoded data removed]"
          },
          "metadata": {}
        }
      ]
    }
  ]
}