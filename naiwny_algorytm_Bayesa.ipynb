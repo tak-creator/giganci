{
  "nbformat": 4,
  "nbformat_minor": 0,
  "metadata": {
    "colab": {
      "provenance": [],
      "authorship_tag": "ABX9TyM0dkDew7E1H5Hqc4c0XeIv",
      "include_colab_link": true
    },
    "kernelspec": {
      "name": "python3",
      "display_name": "Python 3"
    },
    "language_info": {
      "name": "python"
    }
  },
  "cells": [
    {
      "cell_type": "markdown",
      "metadata": {
        "id": "view-in-github",
        "colab_type": "text"
      },
      "source": [
        "<a href=\"https://colab.research.google.com/github/tak-creator/giganci/blob/main/naiwny_algorytm_Bayesa.ipynb\" target=\"_parent\"><img src=\"https://colab.research.google.com/assets/colab-badge.svg\" alt=\"Open In Colab\"/></a>"
      ]
    },
    {
      "cell_type": "code",
      "execution_count": 7,
      "metadata": {
        "colab": {
          "base_uri": "https://localhost:8080/"
        },
        "id": "LL9jjpFy6Dnx",
        "outputId": "70238221-c025-45f9-ee95-3b97c9d05269"
      },
      "outputs": [
        {
          "output_type": "stream",
          "name": "stdout",
          "text": [
            "[{'label': 'minecraft', 'tags': ['rankingi', 'sandbox', 'pistolet', 'event', 'smok', 'diamenty', 'kolekcje', 'klocki']}, {'label': 'fortnite', 'tags': ['tryb solo', 'snajper', 'online', 'autobus bojowy', 'misje', 'questy', 'lama', 'fortyfikacje']}, {'label': 'fortnite', 'tags': ['sezon', 'kopanie', 'misje', 'drużyna', 'fortyfikacje', 'biomy', 'v-bucksy', 'lama']}, {'label': 'roblox', 'tags': ['czat', 'karabin', 'tryb kreatywny', 'klocki', 'oddziały', 'studio', 'misje', 'brokhaven']}, {'label': 'lol', 'tags': ['przetrwanie', 'snajper', 'zombie', 'esport', 'skiny', 'budowanie', 'ulti', 'dżungla']}, {'label': 'fortnite', 'tags': ['roleplay', 'online', 'slurp', 'lama', 'pistolet', 'symulator', 'tryb kreatywny', 'sandbox']}, {'label': 'fortnite', 'tags': ['kolekcje', 'karabin', 'autobus bojowy', 'biomy', 'lama', 'strzelanie', 'loot', 'symulator']}, {'label': 'roblox', 'tags': ['tryb', 'strzał w głowę', 'oddziały', 'questy', 'studio', 'duety', 'brokhaven', 'symulator']}, {'label': 'lol', 'tags': ['roleplay', 'ulti', 'esport', 'sklep', 'runy', 'duety', 'waluta', 'event']}, {'label': 'roblox', 'tags': ['prywatny serwer', 'brokhaven', 'obby', 'skiny', 'rankedy', 'arena', 'crafting', 'wyzwania']}, {'label': 'lol', 'tags': ['roleplay', 'klocki', 'aktualizacja', 'battle', 'nexus', 'karabin', 'dżungla', 'waluta']}, {'label': 'roblox', 'tags': ['brokhaven', 'budowanie', 'hardcore', 'sandbox', 'tryb solo', 'snajper', 'lua', 'wyzwania']}, {'label': 'roblox', 'tags': ['oddziały', 'rankingi', 'brokhaven', 'biomy', 'skiny', 'robuxy', 'sezon', 'budowanie']}, {'label': 'cs', 'tags': ['awp', 'kolekcje', 'wydarzenia', 'czat', 'skiny', 'sklep', 'bomba', 'questy']}, {'label': 'minecraft', 'tags': ['budowanie', 'rankingi', 'snajper', 'diamenty', 'creepery', 'arena', 'aktualizacja', 'multiplayer']}, {'label': 'minecraft', 'tags': ['parkour', 'smok', 'roleplay', 'kolekcje', 'prywatny serwer', 'tryb kreatywny', 'wydarzenia', 'diamenty']}, {'label': 'roblox', 'tags': ['wyzwania', 'loot', 'tryb', 'zombie', 'robuxy', 'lua', 'rankingi', 'sezon']}, {'label': 'fortnite', 'tags': ['lama', 'aktualizacja', 'autobus bojowy', 'wydarzenia', 'przetrwanie', 'mapa', 'drużyna', 'snajper']}, {'label': 'lol', 'tags': ['dżungla', 'drużyna', 'prywatny serwer', 'symulator', 'nexus', 'questy', 'event', 'karabin']}, {'label': 'minecraft', 'tags': ['budowanie', 'nether', 'mapa', 'rankingi', 'rankedy', 'fortyfikacje', 'creepery', 'emotki']}, {'label': 'lol', 'tags': ['zombie', 'dżungla', 'mapa', 'tryb kreatywny', 'survival', 'arena', 'nexus', 'strzelanie']}, {'label': 'cs', 'tags': ['oddziały', 'karabin', 'crafting', 'wyzwania', 'sklep', 'skiny', 'awp', 'flash']}, {'label': 'lol', 'tags': ['zombie', 'aktualizacja', 'event', 'loot', 'hardcore', 'runy', 'ulti', 'przetrwanie']}, {'label': 'lol', 'tags': ['roleplay', 'przetrwanie', 'czat', 'tryb kreatywny', 'rankingi', 'parkour', 'dżungla', 'nexus']}, {'label': 'lol', 'tags': ['tryb', 'misje', 'sezon', 'ulti', 'crafting', 'nexus', 'strzelanie', 'kopanie']}, {'label': 'lol', 'tags': ['esport', 'duety', 'przetrwanie', 'baron', 'bohaterowie', 'loot', 'dżungla', 'snajper']}, {'label': 'roblox', 'tags': ['robuxy', 'parkour', 'obby', 'budowanie', 'fortyfikacje', 'emotki', 'kopanie', 'strzelanie']}, {'label': 'roblox', 'tags': ['strzał w głowę', 'survival', 'obby', 'loot', 'zombie', 'parkour', 'roleplay', 'lua']}, {'label': 'lol', 'tags': ['kopanie', 'parkour', 'nexus', 'roleplay', 'questy', 'waluta', 'runy', 'aktualizacja']}, {'label': 'cs', 'tags': ['parkour', 'sezon', 'emotki', 'symulator', 'tickrate', 'roleplay', 'hardcore', 'awp']}, {'label': 'fortnite', 'tags': ['budowanie', 'rankedy', 'v-bucksy', 'sklep', 'mapa', 'czat', 'esport', 'burza']}, {'label': 'roblox', 'tags': ['emotki', 'lua', 'karabin', 'bohaterowie', 'crafting', 'robuxy', 'online', 'questy']}, {'label': 'minecraft', 'tags': ['budowanie', 'rankingi', 'emotki', 'aktualizacja', 'battle', 'przetrwanie', 'diamenty', 'smok']}, {'label': 'cs', 'tags': ['biomy', 'tryb', 'survival', 'bomba', 'czat', 'hardcore', 'fortyfikacje', 'flash']}, {'label': 'minecraft', 'tags': ['strzelanie', 'kopanie', 'diamenty', 'duety', 'crafting', 'tryb solo', 'wydarzenia', 'smok']}, {'label': 'cs', 'tags': ['budowanie', 'crafting', 'fortyfikacje', 'klocki', 'awp', 'bohaterowie', 'flash', 'tryb solo']}, {'label': 'roblox', 'tags': ['sandbox', 'karabin', 'lua', 'emotki', 'parkour', 'strzał w głowę', 'obby', 'wydarzenia']}, {'label': 'roblox', 'tags': ['tryb solo', 'sezon', 'lua', 'loot', 'studio', 'rankingi', 'tryb', 'waluta']}, {'label': 'lol', 'tags': ['waluta', 'fortyfikacje', 'baron', 'budowanie', 'nexus', 'kopanie', 'duety', 'kolekcje']}, {'label': 'fortnite', 'tags': ['sandbox', 'v-bucksy', 'oddziały', 'karabin', 'sezon', 'autobus bojowy', 'budowanie', 'kolekcje']}, {'label': 'cs', 'tags': ['waluta', 'awp', 'online', 'wyzwania', 'rankedy', 'roleplay', 'tickrate', 'biomy']}, {'label': 'cs', 'tags': ['fortyfikacje', 'bomba', 'przetrwanie', 'questy', 'waluta', 'event', 'kolekcje', 'tickrate']}, {'label': 'lol', 'tags': ['budowanie', 'waluta', 'nexus', 'runy', 'online', 'esport', 'sklep', 'oddziały']}, {'label': 'lol', 'tags': ['klocki', 'crafting', 'rankedy', 'karabin', 'misje', 'mapa', 'nexus', 'dżungla']}, {'label': 'roblox', 'tags': ['wyzwania', 'strzał w głowę', 'lua', 'crafting', 'robuxy', 'klocki', 'symulator', 'waluta']}, {'label': 'cs', 'tags': ['event', 'battle', 'tickrate', 'sezon', 'bomba', 'arena', 'strzelanie', 'kolekcje']}, {'label': 'fortnite', 'tags': ['crafting', 'slurp', 'event', 'czat', 'questy', 'drużyna', 'kolekcje', 'burza']}, {'label': 'lol', 'tags': ['questy', 'wyzwania', 'duety', 'baron', 'tryb kreatywny', 'przetrwanie', 'klocki', 'ulti']}, {'label': 'minecraft', 'tags': ['diamenty', 'wyzwania', 'online', 'creepery', 'tryb', 'sezon', 'budowanie', 'klocki']}, {'label': 'lol', 'tags': ['ulti', 'prywatny serwer', 'biomy', 'roleplay', 'arena', 'sezon', 'dżungla', 'loot']}, {'label': 'minecraft', 'tags': ['event', 'kolekcje', 'smok', 'nether', 'tryb', 'emotki', 'karabin', 'biomy']}, {'label': 'roblox', 'tags': ['robuxy', 'hardcore', 'karabin', 'tryb kreatywny', 'online', 'brokhaven', 'loot', 'symulator']}, {'label': 'minecraft', 'tags': ['kopanie', 'sklep', 'diamenty', 'crafting', 'redstone', 'loot', 'sandbox', 'mapa']}, {'label': 'minecraft', 'tags': ['diamenty', 'hardcore', 'skiny', 'wyzwania', 'mapa', 'questy', 'creepery', 'przetrwanie']}, {'label': 'minecraft', 'tags': ['karabin', 'arena', 'tryb solo', 'pistolet', 'kopanie', 'redstone', 'wyzwania', 'nether']}, {'label': 'fortnite', 'tags': ['waluta', 'budowanie', 'prywatny serwer', 'loot', 'rankingi', 'questy', 'autobus bojowy', 'burza']}, {'label': 'roblox', 'tags': ['kopanie', 'questy', 'loot', 'battle', 'brokhaven', 'waluta', 'studio', 'oddziały']}, {'label': 'minecraft', 'tags': ['crafting', 'diamenty', 'misje', 'kolekcje', 'redstone', 'snajper', 'zombie', 'karabin']}, {'label': 'lol', 'tags': ['survival', 'tryb kreatywny', 'loot', 'nexus', 'sklep', 'fortyfikacje', 'duety', 'ulti']}, {'label': 'lol', 'tags': ['nexus', 'hardcore', 'battle', 'roleplay', 'strzał w głowę', 'snajper', 'dżungla', 'kolekcje']}, {'label': 'lol', 'tags': ['kopanie', 'bohaterowie', 'baron', 'sklep', 'parkour', 'nexus', 'kolekcje', 'rankedy']}, {'label': 'lol', 'tags': ['czat', 'bohaterowie', 'strzał w głowę', 'dżungla', 'nexus', 'sezon', 'parkour', 'aktualizacja']}, {'label': 'lol', 'tags': ['wyzwania', 'biomy', 'baron', 'roleplay', 'rankingi', 'prywatny serwer', 'multiplayer', 'dżungla']}, {'label': 'fortnite', 'tags': ['wyzwania', 'przetrwanie', 'autobus bojowy', 'esport', 'roleplay', 'duety', 'v-bucksy', 'symulator']}, {'label': 'fortnite', 'tags': ['bohaterowie', 'fortyfikacje', 'burza', 'v-bucksy', 'pistolet', 'waluta', 'survival', 'biomy']}, {'label': 'fortnite', 'tags': ['tryb solo', 'misje', 'sezon', 'fortyfikacje', 'multiplayer', 'v-bucksy', 'strzelanie', 'burza']}, {'label': 'roblox', 'tags': ['questy', 'symulator', 'studio', 'pistolet', 'budowanie', 'aktualizacja', 'robuxy', 'rankingi']}, {'label': 'minecraft', 'tags': ['aktualizacja', 'sezon', 'skiny', 'karabin', 'pistolet', 'esport', 'smok', 'redstone']}, {'label': 'minecraft', 'tags': ['sezon', 'fortyfikacje', 'rankingi', 'redstone', 'bohaterowie', 'zombie', 'diamenty', 'rankedy']}, {'label': 'fortnite', 'tags': ['survival', 'mapa', 'budowanie', 'rankingi', 'slurp', 'przetrwanie', 'wyzwania', 'v-bucksy']}, {'label': 'cs', 'tags': ['event', 'budowanie', 'aktualizacja', 'bomba', 'mapa', 'roleplay', 'kopanie', 'dust2']}, {'label': 'fortnite', 'tags': ['burza', 'waluta', 'karabin', 'roleplay', 'multiplayer', 'lama', 'klocki', 'zombie']}, {'label': 'roblox', 'tags': ['questy', 'esport', 'kolekcje', 'robuxy', 'sandbox', 'survival', 'event', 'brokhaven']}, {'label': 'minecraft', 'tags': ['sandbox', 'smok', 'esport', 'symulator', 'diamenty', 'fortyfikacje', 'strzelanie', 'roleplay']}, {'label': 'lol', 'tags': ['baron', 'duety', 'biomy', 'arena', 'snajper', 'wydarzenia', 'runy', 'kolekcje']}, {'label': 'minecraft', 'tags': ['questy', 'sandbox', 'redstone', 'snajper', 'aktualizacja', 'bohaterowie', 'wydarzenia', 'nether']}, {'label': 'minecraft', 'tags': ['pistolet', 'czat', 'karabin', 'event', 'smok', 'creepery', 'online', 'symulator']}, {'label': 'lol', 'tags': ['nexus', 'baron', 'wyzwania', 'oddziały', 'rankedy', 'przetrwanie', 'survival', 'crafting']}, {'label': 'minecraft', 'tags': ['czat', 'creepery', 'fortyfikacje', 'sandbox', 'symulator', 'klocki', 'diamenty', 'karabin']}, {'label': 'roblox', 'tags': ['obby', 'robuxy', 'bohaterowie', 'arena', 'prywatny serwer', 'karabin', 'hardcore', 'event']}, {'label': 'fortnite', 'tags': ['lama', 'hardcore', 'waluta', 'skiny', 'mapa', 'v-bucksy', 'przetrwanie', 'multiplayer']}, {'label': 'minecraft', 'tags': ['waluta', 'rankedy', 'sandbox', 'smok', 'creepery', 'roleplay', 'symulator', 'strzał w głowę']}, {'label': 'cs', 'tags': ['czat', 'event', 'aktualizacja', 'skiny', 'dust2', 'flash', 'waluta', 'questy']}, {'label': 'roblox', 'tags': ['sandbox', 'emotki', 'oddziały', 'klocki', 'robuxy', 'hardcore', 'battle', 'brokhaven']}, {'label': 'fortnite', 'tags': ['lama', 'survival', 'karabin', 'multiplayer', 'emotki', 'tryb solo', 'klocki', 'v-bucksy']}, {'label': 'roblox', 'tags': ['pistolet', 'studio', 'roleplay', 'sezon', 'robuxy', 'prywatny serwer', 'budowanie', 'strzelanie']}, {'label': 'fortnite', 'tags': ['emotki', 'kopanie', 'drużyna', 'arena', 'v-bucksy', 'oddziały', 'lama', 'misje']}, {'label': 'fortnite', 'tags': ['czat', 'duety', 'crafting', 'rankingi', 'rankedy', 'lama', 'kolekcje', 'v-bucksy']}, {'label': 'minecraft', 'tags': ['sklep', 'wyzwania', 'questy', 'nether', 'smok', 'crafting', 'zombie', 'prywatny serwer']}, {'label': 'cs', 'tags': ['duety', 'awp', 'aktualizacja', 'loot', 'sandbox', 'parkour', 'tickrate', 'crafting']}, {'label': 'roblox', 'tags': ['wydarzenia', 'studio', 'aktualizacja', 'tryb', 'multiplayer', 'przetrwanie', 'biomy', 'brokhaven']}, {'label': 'cs', 'tags': ['waluta', 'flash', 'questy', 'budowanie', 'symulator', 'kopanie', 'dust2', 'drużyna']}, {'label': 'minecraft', 'tags': ['klocki', 'smok', 'budowanie', 'biomy', 'nether', 'symulator', 'skiny', 'esport']}, {'label': 'lol', 'tags': ['arena', 'strzał w głowę', 'ulti', 'loot', 'tryb solo', 'dżungla', 'przetrwanie', 'sezon']}, {'label': 'lol', 'tags': ['mapa', 'kopanie', 'event', 'fortyfikacje', 'duety', 'runy', 'sklep', 'nexus']}, {'label': 'roblox', 'tags': ['waluta', 'duety', 'robuxy', 'misje', 'biomy', 'lua', 'arena', 'emotki']}, {'label': 'cs', 'tags': ['sezon', 'bomba', 'flash', 'aktualizacja', 'strzał w głowę', 'mapa', 'hardcore', 'sklep']}, {'label': 'fortnite', 'tags': ['tryb solo', 'roleplay', 'autobus bojowy', 'kolekcje', 'v-bucksy', 'arena', 'crafting', 'budowanie']}, {'label': 'minecraft', 'tags': ['creepery', 'parkour', 'duety', 'tryb kreatywny', 'fortyfikacje', 'rankingi', 'biomy', 'redstone']}, {'label': 'lol', 'tags': ['arena', 'kopanie', 'mapa', 'budowanie', 'sklep', 'ulti', 'baron', 'sezon']}, {'label': 'minecraft', 'tags': ['nether', 'tryb', 'esport', 'tryb solo', 'pistolet', 'battle', 'oddziały', 'diamenty']}, {'label': 'fortnite', 'tags': ['autobus bojowy', 'mapa', 'aktualizacja', 'sandbox', 'kolekcje', 'survival', 'crafting', 'lama']}, {'label': 'minecraft', 'tags': ['diamenty', 'strzelanie', 'klocki', 'emotki', 'skiny', 'creepery', 'online', 'tryb kreatywny']}, {'label': 'roblox', 'tags': ['studio', 'esport', 'biomy', 'rankingi', 'loot', 'brokhaven', 'budowanie', 'emotki']}, {'label': 'fortnite', 'tags': ['v-bucksy', 'burza', 'aktualizacja', 'tryb', 'sezon', 'roleplay', 'fortyfikacje', 'budowanie']}, {'label': 'minecraft', 'tags': ['sklep', 'arena', 'creepery', 'biomy', 'diamenty', 'battle', 'snajper', 'sezon']}, {'label': 'fortnite', 'tags': ['sklep', 'slurp', 'esport', 'budowanie', 'lama', 'loot', 'rankedy', 'aktualizacja']}, {'label': 'minecraft', 'tags': ['bohaterowie', 'zombie', 'smok', 'creepery', 'oddziały', 'crafting', 'klocki', 'survival']}, {'label': 'cs', 'tags': ['symulator', 'awp', 'roleplay', 'zombie', 'rankingi', 'tryb kreatywny', 'fortyfikacje', 'bomba']}, {'label': 'lol', 'tags': ['budowanie', 'rankedy', 'kopanie', 'misje', 'runy', 'tryb solo', 'oddziały', 'ulti']}, {'label': 'minecraft', 'tags': ['bohaterowie', 'duety', 'emotki', 'karabin', 'creepery', 'crafting', 'redstone', 'tryb solo']}, {'label': 'lol', 'tags': ['nexus', 'rankedy', 'esport', 'czat', 'strzał w głowę', 'klocki', 'sklep', 'baron']}, {'label': 'lol', 'tags': ['crafting', 'mapa', 'czat', 'biomy', 'questy', 'roleplay', 'dżungla', 'nexus']}, {'label': 'roblox', 'tags': ['brokhaven', 'studio', 'czat', 'arena', 'sklep', 'strzelanie', 'sandbox', 'biomy']}, {'label': 'cs', 'tags': ['bomba', 'drużyna', 'zombie', 'budowanie', 'awp', 'karabin', 'oddziały', 'roleplay']}, {'label': 'fortnite', 'tags': ['tryb solo', 'v-bucksy', 'arena', 'burza', 'wydarzenia', 'event', 'prywatny serwer', 'battle']}, {'label': 'fortnite', 'tags': ['rankedy', 'aktualizacja', 'misje', 'karabin', 'slurp', 'rankingi', 'budowanie', 'v-bucksy']}, {'label': 'cs', 'tags': ['prywatny serwer', 'flash', 'bomba', 'klocki', 'aktualizacja', 'strzał w głowę', 'tryb', 'hardcore']}, {'label': 'minecraft', 'tags': ['questy', 'prywatny serwer', 'smok', 'diamenty', 'event', 'crafting', 'waluta', 'klocki']}, {'label': 'roblox', 'tags': ['online', 'sezon', 'robuxy', 'strzelanie', 'multiplayer', 'snajper', 'duety', 'lua']}, {'label': 'lol', 'tags': ['kolekcje', 'event', 'roleplay', 'waluta', 'battle', 'runy', 'nexus', 'tryb solo']}, {'label': 'cs', 'tags': ['zombie', 'rankedy', 'questy', 'prywatny serwer', 'flash', 'crafting', 'dust2', 'snajper']}, {'label': 'minecraft', 'tags': ['multiplayer', 'smok', 'pistolet', 'oddziały', 'kolekcje', 'nether', 'tryb kreatywny', 'online']}, {'label': 'minecraft', 'tags': ['crafting', 'creepery', 'rankedy', 'strzelanie', 'redstone', 'fortyfikacje', 'waluta', 'prywatny serwer']}, {'label': 'lol', 'tags': ['snajper', 'misje', 'wydarzenia', 'tryb', 'runy', 'dżungla', 'hardcore', 'arena']}, {'label': 'minecraft', 'tags': ['karabin', 'esport', 'rankedy', 'strzał w głowę', 'zombie', 'loot', 'creepery', 'redstone']}, {'label': 'lol', 'tags': ['symulator', 'sandbox', 'strzał w głowę', 'baron', 'klocki', 'dżungla', 'pistolet', 'sklep']}, {'label': 'lol', 'tags': ['skiny', 'ulti', 'wyzwania', 'symulator', 'oddziały', 'pistolet', 'event', 'dżungla']}, {'label': 'minecraft', 'tags': ['loot', 'survival', 'skiny', 'tryb solo', 'arena', 'roleplay', 'creepery', 'diamenty']}, {'label': 'minecraft', 'tags': ['rankedy', 'wyzwania', 'battle', 'skiny', 'fortyfikacje', 'redstone', 'przetrwanie', 'nether']}, {'label': 'roblox', 'tags': ['studio', 'emotki', 'obby', 'waluta', 'hardcore', 'bohaterowie', 'kopanie', 'duety']}, {'label': 'roblox', 'tags': ['rankedy', 'fortyfikacje', 'obby', 'kopanie', 'czat', 'lua', 'parkour', 'mapa']}, {'label': 'lol', 'tags': ['drużyna', 'rankingi', 'kopanie', 'oddziały', 'runy', 'ulti', 'emotki', 'multiplayer']}, {'label': 'roblox', 'tags': ['crafting', 'prywatny serwer', 'rankingi', 'strzał w głowę', 'brokhaven', 'robuxy', 'tryb', 'loot']}, {'label': 'lol', 'tags': ['loot', 'rankingi', 'fortyfikacje', 'ulti', 'drużyna', 'nexus', 'pistolet', 'czat']}, {'label': 'lol', 'tags': ['roleplay', 'baron', 'online', 'hardcore', 'tryb solo', 'questy', 'runy', 'misje']}, {'label': 'cs', 'tags': ['tickrate', 'pistolet', 'bohaterowie', 'emotki', 'aktualizacja', 'awp', 'budowanie', 'klocki']}, {'label': 'fortnite', 'tags': ['rankingi', 'skiny', 'prywatny serwer', 'hardcore', 'burza', 'wyzwania', 'lama', 'bohaterowie']}, {'label': 'lol', 'tags': ['waluta', 'runy', 'oddziały', 'nexus', 'misje', 'tryb kreatywny', 'drużyna', 'klocki']}, {'label': 'cs', 'tags': ['symulator', 'snajper', 'tickrate', 'bomba', 'multiplayer', 'strzelanie', 'klocki', 'wyzwania']}, {'label': 'lol', 'tags': ['baron', 'duety', 'tryb', 'symulator', 'mapa', 'dżungla', 'budowanie', 'misje']}, {'label': 'cs', 'tags': ['zombie', 'tickrate', 'kolekcje', 'roleplay', 'symulator', 'flash', 'strzał w głowę', 'online']}, {'label': 'roblox', 'tags': ['robuxy', 'skiny', 'multiplayer', 'tryb kreatywny', 'biomy', 'emotki', 'loot', 'brokhaven']}, {'label': 'lol', 'tags': ['tryb kreatywny', 'karabin', 'ulti', 'kolekcje', 'questy', 'survival', 'event', 'nexus']}, {'label': 'roblox', 'tags': ['aktualizacja', 'esport', 'tryb solo', 'kopanie', 'robuxy', 'lua', 'czat', 'parkour']}, {'label': 'minecraft', 'tags': ['czat', 'misje', 'kopanie', 'wyzwania', 'biomy', 'multiplayer', 'redstone', 'smok']}, {'label': 'roblox', 'tags': ['rankingi', 'wydarzenia', 'robuxy', 'esport', 'strzelanie', 'obby', 'rankedy', 'skiny']}, {'label': 'lol', 'tags': ['nexus', 'esport', 'tryb', 'drużyna', 'mapa', 'symulator', 'oddziały', 'ulti']}, {'label': 'roblox', 'tags': ['questy', 'klocki', 'studio', 'esport', 'emotki', 'czat', 'robuxy', 'przetrwanie']}, {'label': 'cs', 'tags': ['parkour', 'skiny', 'dust2', 'kopanie', 'esport', 'pistolet', 'tickrate', 'bohaterowie']}, {'label': 'cs', 'tags': ['skiny', 'przetrwanie', 'tickrate', 'misje', 'strzał w głowę', 'fortyfikacje', 'flash', 'pistolet']}, {'label': 'roblox', 'tags': ['lua', 'emotki', 'waluta', 'przetrwanie', 'skiny', 'obby', 'strzelanie', 'loot']}, {'label': 'lol', 'tags': ['sezon', 'aktualizacja', 'baron', 'oddziały', 'tryb solo', 'przetrwanie', 'ulti', 'hardcore']}, {'label': 'lol', 'tags': ['loot', 'dżungla', 'emotki', 'fortyfikacje', 'oddziały', 'tryb solo', 'duety', 'runy']}, {'label': 'roblox', 'tags': ['survival', 'studio', 'fortyfikacje', 'przetrwanie', 'lua', 'sandbox', 'rankedy', 'multiplayer']}, {'label': 'roblox', 'tags': ['fortyfikacje', 'robuxy', 'brokhaven', 'strzelanie', 'skiny', 'sezon', 'drużyna', 'pistolet']}, {'label': 'roblox', 'tags': ['biomy', 'obby', 'zombie', 'kopanie', 'event', 'robuxy', 'pistolet', 'parkour']}, {'label': 'lol', 'tags': ['waluta', 'runy', 'survival', 'kopanie', 'pistolet', 'strzelanie', 'sklep', 'ulti']}, {'label': 'roblox', 'tags': ['rankedy', 'klocki', 'biomy', 'strzelanie', 'snajper', 'lua', 'aktualizacja', 'studio']}, {'label': 'roblox', 'tags': ['studio', 'tryb kreatywny', 'emotki', 'parkour', 'prywatny serwer', 'obby', 'sklep', 'pistolet']}, {'label': 'cs', 'tags': ['symulator', 'awp', 'loot', 'dust2', 'przetrwanie', 'bohaterowie', 'arena', 'strzał w głowę']}, {'label': 'lol', 'tags': ['ulti', 'bohaterowie', 'emotki', 'loot', 'esport', 'nexus', 'snajper', 'event']}, {'label': 'cs', 'tags': ['multiplayer', 'crafting', 'tryb solo', 'hardcore', 'awp', 'flash', 'przetrwanie', 'sklep']}, {'label': 'minecraft', 'tags': ['klocki', 'parkour', 'multiplayer', 'prywatny serwer', 'bohaterowie', 'symulator', 'smok', 'diamenty']}, {'label': 'cs', 'tags': ['aktualizacja', 'sezon', 'tickrate', 'flash', 'klocki', 'sklep', 'strzał w głowę', 'survival']}, {'label': 'cs', 'tags': ['tickrate', 'crafting', 'zombie', 'tryb kreatywny', 'sandbox', 'survival', 'dust2', 'mapa']}, {'label': 'fortnite', 'tags': ['kopanie', 'sezon', 'roleplay', 'burza', 'rankedy', 'klocki', 'strzelanie', 'autobus bojowy']}, {'label': 'fortnite', 'tags': ['autobus bojowy', 'sandbox', 'karabin', 'strzał w głowę', 'slurp', 'skiny', 'emotki', 'kopanie']}, {'label': 'cs', 'tags': ['tryb solo', 'battle', 'bomba', 'hardcore', 'dust2', 'multiplayer', 'emotki', 'oddziały']}, {'label': 'lol', 'tags': ['tryb kreatywny', 'battle', 'nexus', 'runy', 'mapa', 'snajper', 'kopanie', 'strzał w głowę']}, {'label': 'lol', 'tags': ['runy', 'dżungla', 'pistolet', 'bohaterowie', 'tryb solo', 'prywatny serwer', 'questy', 'snajper']}, {'label': 'roblox', 'tags': ['misje', 'fortyfikacje', 'obby', 'lua', 'battle', 'crafting', 'czat', 'snajper']}, {'label': 'cs', 'tags': ['fortyfikacje', 'bomba', 'awp', 'roleplay', 'parkour', 'drużyna', 'aktualizacja', 'mapa']}, {'label': 'minecraft', 'tags': ['creepery', 'aktualizacja', 'pistolet', 'redstone', 'parkour', 'tryb kreatywny', 'duety', 'symulator']}, {'label': 'cs', 'tags': ['karabin', 'duety', 'klocki', 'bomba', 'strzelanie', 'wydarzenia', 'bohaterowie', 'flash']}, {'label': 'cs', 'tags': ['event', 'emotki', 'battle', 'klocki', 'tickrate', 'sezon', 'biomy', 'awp']}, {'label': 'lol', 'tags': ['czat', 'snajper', 'baron', 'budowanie', 'strzał w głowę', 'arena', 'ulti', 'roleplay']}, {'label': 'fortnite', 'tags': ['rankingi', 'hardcore', 'tryb', 'v-bucksy', 'klocki', 'symulator', 'lama', 'emotki']}, {'label': 'roblox', 'tags': ['lua', 'wydarzenia', 'tryb solo', 'robuxy', 'strzelanie', 'kopanie', 'arena', 'oddziały']}, {'label': 'lol', 'tags': ['biomy', 'nexus', 'snajper', 'ulti', 'sandbox', 'sklep', 'hardcore', 'wydarzenia']}, {'label': 'cs', 'tags': ['tickrate', 'roleplay', 'sandbox', 'event', 'aktualizacja', 'wydarzenia', 'karabin', 'dust2']}, {'label': 'cs', 'tags': ['tryb kreatywny', 'emotki', 'tickrate', 'hardcore', 'flash', 'sklep', 'online', 'rankingi']}, {'label': 'lol', 'tags': ['wydarzenia', 'runy', 'czat', 'emotki', 'baron', 'questy', 'tryb kreatywny', 'survival']}, {'label': 'fortnite', 'tags': ['arena', 'biomy', 'burza', 'lama', 'wydarzenia', 'sklep', 'zombie', 'wyzwania']}, {'label': 'roblox', 'tags': ['sandbox', 'brokhaven', 'sklep', 'arena', 'rankedy', 'oddziały', 'aktualizacja', 'robuxy']}, {'label': 'minecraft', 'tags': ['battle', 'fortyfikacje', 'roleplay', 'nether', 'redstone', 'strzał w głowę', 'bohaterowie', 'rankedy']}, {'label': 'minecraft', 'tags': ['sklep', 'tryb kreatywny', 'arena', 'diamenty', 'redstone', 'wyzwania', 'strzelanie', 'battle']}, {'label': 'cs', 'tags': ['klocki', 'flash', 'bohaterowie', 'rankedy', 'czat', 'awp', 'misje', 'arena']}, {'label': 'minecraft', 'tags': ['loot', 'diamenty', 'strzał w głowę', 'sandbox', 'przetrwanie', 'pistolet', 'aktualizacja', 'smok']}, {'label': 'minecraft', 'tags': ['sezon', 'hardcore', 'diamenty', 'rankingi', 'wydarzenia', 'waluta', 'redstone', 'fortyfikacje']}, {'label': 'fortnite', 'tags': ['slurp', 'fortyfikacje', 'burza', 'esport', 'roleplay', 'sezon', 'rankedy', 'crafting']}, {'label': 'cs', 'tags': ['tickrate', 'arena', 'tryb kreatywny', 'roleplay', 'dust2', 'parkour', 'event', 'kopanie']}, {'label': 'roblox', 'tags': ['strzelanie', 'robuxy', 'waluta', 'pistolet', 'mapa', 'survival', 'studio', 'crafting']}, {'label': 'roblox', 'tags': ['kolekcje', 'studio', 'emotki', 'hardcore', 'lua', 'prywatny serwer', 'survival', 'karabin']}, {'label': 'cs', 'tags': ['battle', 'crafting', 'sezon', 'parkour', 'bomba', 'zombie', 'tickrate', 'emotki']}, {'label': 'fortnite', 'tags': ['fortyfikacje', 'kopanie', 'karabin', 'arena', 'budowanie', 'burza', 'klocki', 'autobus bojowy']}, {'label': 'lol', 'tags': ['strzelanie', 'nexus', 'runy', 'roleplay', 'czat', 'tryb kreatywny', 'esport', 'fortyfikacje']}, {'label': 'cs', 'tags': ['oddziały', 'kopanie', 'awp', 'czat', 'pistolet', 'flash', 'multiplayer', 'bohaterowie']}, {'label': 'lol', 'tags': ['multiplayer', 'zombie', 'wyzwania', 'baron', 'online', 'crafting', 'prywatny serwer', 'runy']}, {'label': 'roblox', 'tags': ['tryb solo', 'aktualizacja', 'lua', 'brokhaven', 'oddziały', 'karabin', 'zombie', 'strzał w głowę']}, {'label': 'lol', 'tags': ['crafting', 'esport', 'dżungla', 'nexus', 'snajper', 'pistolet', 'skiny', 'wydarzenia']}, {'label': 'fortnite', 'tags': ['duety', 'crafting', 'burza', 'rankedy', 'loot', 'przetrwanie', 'parkour', 'autobus bojowy']}, {'label': 'fortnite', 'tags': ['online', 'slurp', 'kolekcje', 'strzelanie', 'wyzwania', 'crafting', 'v-bucksy', 'pistolet']}, {'label': 'roblox', 'tags': ['parkour', 'sandbox', 'waluta', 'brokhaven', 'lua', 'przetrwanie', 'loot', 'wyzwania']}, {'label': 'cs', 'tags': ['dust2', 'multiplayer', 'survival', 'sandbox', 'symulator', 'flash', 'loot', 'waluta']}, {'label': 'cs', 'tags': ['parkour', 'battle', 'przetrwanie', 'tickrate', 'sezon', 'dust2', 'crafting', 'rankedy']}, {'label': 'roblox', 'tags': ['strzał w głowę', 'loot', 'multiplayer', 'lua', 'parkour', 'sandbox', 'strzelanie', 'brokhaven']}, {'label': 'cs', 'tags': ['karabin', 'flash', 'skiny', 'tickrate', 'kopanie', 'battle', 'czat', 'zombie']}, {'label': 'minecraft', 'tags': ['creepery', 'survival', 'duety', 'redstone', 'skiny', 'arena', 'snajper', 'karabin']}, {'label': 'cs', 'tags': ['awp', 'tryb solo', 'bomba', 'loot', 'zombie', 'kolekcje', 'snajper', 'wydarzenia']}, {'label': 'cs', 'tags': ['snajper', 'rankedy', 'flash', 'bohaterowie', 'oddziały', 'emotki', 'arena', 'tickrate']}, {'label': 'fortnite', 'tags': ['karabin', 'burza', 'czat', 'roleplay', 'wyzwania', 'snajper', 'v-bucksy', 'fortyfikacje']}, {'label': 'roblox', 'tags': ['snajper', 'mapa', 'obby', 'roleplay', 'lua', 'questy', 'sandbox', 'oddziały']}, {'label': 'roblox', 'tags': ['survival', 'klocki', 'brokhaven', 'duety', 'karabin', 'crafting', 'mapa', 'lua']}, {'label': 'minecraft', 'tags': ['nether', 'survival', 'diamenty', 'budowanie', 'wydarzenia', 'battle', 'strzał w głowę', 'rankingi']}, {'label': 'fortnite', 'tags': ['arena', 'przetrwanie', 'wydarzenia', 'burza', 'sandbox', 'wyzwania', 'tryb', 'v-bucksy']}, {'label': 'cs', 'tags': ['flash', 'pistolet', 'snajper', 'klocki', 'sezon', 'tickrate', 'symulator', 'online']}, {'label': 'cs', 'tags': ['awp', 'budowanie', 'event', 'drużyna', 'oddziały', 'rankingi', 'dust2', 'pistolet']}, {'label': 'cs', 'tags': ['symulator', 'fortyfikacje', 'dust2', 'tryb', 'kolekcje', 'awp', 'event', 'rankedy']}, {'label': 'lol', 'tags': ['ulti', 'sezon', 'rankedy', 'baron', 'tryb kreatywny', 'wydarzenia', 'skiny', 'multiplayer']}, {'label': 'minecraft', 'tags': ['kolekcje', 'creepery', 'emotki', 'tryb solo', 'roleplay', 'arena', 'nether', 'budowanie']}, {'label': 'cs', 'tags': ['kopanie', 'rankedy', 'loot', 'tryb', 'dust2', 'tryb solo', 'roleplay', 'flash']}, {'label': 'roblox', 'tags': ['lua', 'parkour', 'survival', 'studio', 'roleplay', 'drużyna', 'pistolet', 'emotki']}, {'label': 'lol', 'tags': ['sklep', 'pistolet', 'arena', 'hardcore', 'loot', 'ulti', 'baron', 'questy']}, {'label': 'fortnite', 'tags': ['burza', 'rankingi', 'kopanie', 'sklep', 'loot', 'biomy', 'parkour', 'autobus bojowy']}, {'label': 'minecraft', 'tags': ['sandbox', 'crafting', 'smok', 'redstone', 'drużyna', 'questy', 'hardcore', 'snajper']}, {'label': 'roblox', 'tags': ['drużyna', 'brokhaven', 'loot', 'sezon', 'budowanie', 'studio', 'esport', 'roleplay']}, {'label': 'fortnite', 'tags': ['biomy', 'autobus bojowy', 'battle', 'strzelanie', 'lama', 'esport', 'kopanie', 'kolekcje']}, {'label': 'fortnite', 'tags': ['wydarzenia', 'budowanie', 'lama', 'wyzwania', 'zombie', 'v-bucksy', 'emotki', 'roleplay']}, {'label': 'lol', 'tags': ['czat', 'baron', 'nexus', 'klocki', 'budowanie', 'tryb solo', 'emotki', 'arena']}, {'label': 'fortnite', 'tags': ['parkour', 'sandbox', 'autobus bojowy', 'przetrwanie', 'rankedy', 'lama', 'skiny', 'emotki']}, {'label': 'minecraft', 'tags': ['loot', 'esport', 'tryb kreatywny', 'mapa', 'nether', 'sklep', 'redstone', 'zombie']}, {'label': 'cs', 'tags': ['oddziały', 'awp', 'mapa', 'dust2', 'kopanie', 'arena', 'sezon', 'przetrwanie']}, {'label': 'minecraft', 'tags': ['mapa', 'snajper', 'smok', 'esport', 'sklep', 'kolekcje', 'diamenty', 'crafting']}, {'label': 'roblox', 'tags': ['robuxy', 'sezon', 'oddziały', 'aktualizacja', 'emotki', 'tryb kreatywny', 'brokhaven', 'crafting']}, {'label': 'fortnite', 'tags': ['autobus bojowy', 'battle', 'aktualizacja', 'online', 'skiny', 'event', 'sezon', 'slurp']}, {'label': 'cs', 'tags': ['mapa', 'oddziały', 'aktualizacja', 'budowanie', 'flash', 'drużyna', 'bomba', 'sezon']}, {'label': 'cs', 'tags': ['roleplay', 'budowanie', 'awp', 'snajper', 'przetrwanie', 'tryb solo', 'duety', 'flash']}, {'label': 'minecraft', 'tags': ['battle', 'arena', 'event', 'creepery', 'zombie', 'questy', 'nether', 'strzelanie']}, {'label': 'fortnite', 'tags': ['burza', 'sezon', 'karabin', 'slurp', 'snajper', 'emotki', 'pistolet', 'klocki']}, {'label': 'lol', 'tags': ['baron', 'questy', 'kopanie', 'multiplayer', 'mapa', 'tryb', 'runy', 'esport']}, {'label': 'cs', 'tags': ['klocki', 'tryb', 'bomba', 'survival', 'tickrate', 'budowanie', 'misje', 'fortyfikacje']}, {'label': 'cs', 'tags': ['dust2', 'rankingi', 'karabin', 'flash', 'wydarzenia', 'kolekcje', 'prywatny serwer', 'rankedy']}, {'label': 'fortnite', 'tags': ['oddziały', 'mapa', 'slurp', 'strzelanie', 'burza', 'online', 'rankedy', 'tryb']}, {'label': 'roblox', 'tags': ['lua', 'wydarzenia', 'rankingi', 'parkour', 'wyzwania', 'arena', 'studio', 'symulator']}, {'label': 'fortnite', 'tags': ['lama', 'duety', 'tryb', 'sezon', 'battle', 'slurp', 'karabin', 'parkour']}, {'label': 'lol', 'tags': ['oddziały', 'dżungla', 'budowanie', 'nexus', 'sklep', 'pistolet', 'drużyna', 'czat']}, {'label': 'roblox', 'tags': ['budowanie', 'obby', 'karabin', 'studio', 'prywatny serwer', 'symulator', 'esport', 'tryb solo']}, {'label': 'minecraft', 'tags': ['crafting', 'snajper', 'rankedy', 'symulator', 'creepery', 'diamenty', 'przetrwanie', 'esport']}, {'label': 'roblox', 'tags': ['brokhaven', 'misje', 'robuxy', 'sezon', 'sklep', 'drużyna', 'prywatny serwer', 'roleplay']}, {'label': 'roblox', 'tags': ['robuxy', 'lua', 'pistolet', 'oddziały', 'misje', 'waluta', 'online', 'survival']}, {'label': 'minecraft', 'tags': ['przetrwanie', 'drużyna', 'tryb solo', 'redstone', 'smok', 'tryb kreatywny', 'emotki', 'waluta']}, {'label': 'minecraft', 'tags': ['loot', 'fortyfikacje', 'duety', 'nether', 'waluta', 'bohaterowie', 'tryb solo', 'creepery']}, {'label': 'fortnite', 'tags': ['online', 'hardcore', 'arena', 'slurp', 'duety', 'rankedy', 'bohaterowie', 'burza']}, {'label': 'fortnite', 'tags': ['questy', 'slurp', 'survival', 'zombie', 'lama', 'budowanie', 'waluta', 'sklep']}, {'label': 'cs', 'tags': ['duety', 'symulator', 'czat', 'crafting', 'misje', 'dust2', 'bomba', 'tryb']}, {'label': 'fortnite', 'tags': ['waluta', 'kopanie', 'autobus bojowy', 'lama', 'multiplayer', 'online', 'misje', 'tryb kreatywny']}, {'label': 'fortnite', 'tags': ['kopanie', 'duety', 'lama', 'karabin', 'v-bucksy', 'wydarzenia', 'zombie', 'tryb kreatywny']}, {'label': 'fortnite', 'tags': ['skiny', 'rankedy', 'lama', 'sandbox', 'czat', 'burza', 'karabin', 'kolekcje']}, {'label': 'fortnite', 'tags': ['strzelanie', 'sandbox', 'lama', 'duety', 'strzał w głowę', 'tryb', 'slurp', 'misje']}, {'label': 'lol', 'tags': ['hardcore', 'wydarzenia', 'crafting', 'kolekcje', 'ulti', 'emotki', 'budowanie', 'runy']}, {'label': 'minecraft', 'tags': ['tryb', 'sklep', 'diamenty', 'tryb solo', 'crafting', 'smok', 'bohaterowie', 'przetrwanie']}, {'label': 'cs', 'tags': ['rankedy', 'tryb solo', 'emotki', 'dust2', 'parkour', 'flash', 'online', 'przetrwanie']}, {'label': 'fortnite', 'tags': ['slurp', 'online', 'lama', 'mapa', 'event', 'rankingi', 'tryb solo', 'prywatny serwer']}, {'label': 'fortnite', 'tags': ['waluta', 'multiplayer', 'kopanie', 'tryb kreatywny', 'klocki', 'oddziały', 'lama', 'slurp']}, {'label': 'lol', 'tags': ['questy', 'baron', 'online', 'nexus', 'aktualizacja', 'karabin', 'sezon', 'klocki']}, {'label': 'cs', 'tags': ['arena', 'bomba', 'questy', 'crafting', 'parkour', 'waluta', 'flash', 'rankedy']}, {'label': 'roblox', 'tags': ['brokhaven', 'emotki', 'symulator', 'sklep', 'wydarzenia', 'studio', 'questy', 'duety']}, {'label': 'cs', 'tags': ['flash', 'wydarzenia', 'parkour', 'strzelanie', 'tickrate', 'crafting', 'mapa', 'misje']}, {'label': 'minecraft', 'tags': ['biomy', 'skiny', 'sezon', 'aktualizacja', 'bohaterowie', 'creepery', 'crafting', 'nether']}, {'label': 'minecraft', 'tags': ['diamenty', 'survival', 'sezon', 'nether', 'esport', 'duety', 'roleplay', 'rankingi']}, {'label': 'minecraft', 'tags': ['creepery', 'kolekcje', 'tryb kreatywny', 'mapa', 'loot', 'misje', 'smok', 'arena']}, {'label': 'lol', 'tags': ['snajper', 'tryb kreatywny', 'hardcore', 'baron', 'ulti', 'misje', 'przetrwanie', 'esport']}, {'label': 'minecraft', 'tags': ['questy', 'redstone', 'symulator', 'pistolet', 'waluta', 'tryb kreatywny', 'smok', 'aktualizacja']}, {'label': 'roblox', 'tags': ['kolekcje', 'sklep', 'rankingi', 'lua', 'obby', 'tryb kreatywny', 'pistolet', 'prywatny serwer']}, {'label': 'roblox', 'tags': ['lua', 'strzał w głowę', 'brokhaven', 'drużyna', 'rankedy', 'arena', 'battle', 'czat']}, {'label': 'fortnite', 'tags': ['v-bucksy', 'sklep', 'fortyfikacje', 'skiny', 'autobus bojowy', 'parkour', 'tryb', 'event']}, {'label': 'cs', 'tags': ['dust2', 'hardcore', 'tickrate', 'survival', 'symulator', 'klocki', 'loot', 'tryb solo']}, {'label': 'minecraft', 'tags': ['sandbox', 'diamenty', 'wyzwania', 'redstone', 'biomy', 'battle', 'sezon', 'oddziały']}, {'label': 'minecraft', 'tags': ['emotki', 'strzelanie', 'multiplayer', 'smok', 'nether', 'pistolet', 'biomy', 'waluta']}, {'label': 'fortnite', 'tags': ['emotki', 'snajper', 'kolekcje', 'budowanie', 'online', 'slurp', 'v-bucksy', 'survival']}, {'label': 'fortnite', 'tags': ['multiplayer', 'slurp', 'rankedy', 'budowanie', 'burza', 'snajper', 'survival', 'skiny']}, {'label': 'fortnite', 'tags': ['zombie', 'v-bucksy', 'roleplay', 'loot', 'wyzwania', 'autobus bojowy', 'sezon', 'kolekcje']}, {'label': 'minecraft', 'tags': ['przetrwanie', 'kopanie', 'crafting', 'fortyfikacje', 'strzał w głowę', 'nether', 'budowanie', 'redstone']}, {'label': 'fortnite', 'tags': ['roleplay', 'autobus bojowy', 'kopanie', 'zombie', 'slurp', 'wydarzenia', 'wyzwania', 'klocki']}, {'label': 'minecraft', 'tags': ['strzał w głowę', 'pistolet', 'zombie', 'creepery', 'sezon', 'klocki', 'drużyna', 'nether']}, {'label': 'fortnite', 'tags': ['aktualizacja', 'bohaterowie', 'burza', 'questy', 'drużyna', 'klocki', 'slurp', 'tryb kreatywny']}, {'label': 'cs', 'tags': ['bomba', 'waluta', 'klocki', 'questy', 'dust2', 'strzelanie', 'bohaterowie', 'oddziały']}, {'label': 'fortnite', 'tags': ['v-bucksy', 'crafting', 'burza', 'arena', 'esport', 'prywatny serwer', 'kolekcje', 'klocki']}, {'label': 'fortnite', 'tags': ['slurp', 'tryb solo', 'lama', 'kolekcje', 'bohaterowie', 'czat', 'parkour', 'hardcore']}, {'label': 'cs', 'tags': ['emotki', 'crafting', 'tickrate', 'bomba', 'misje', 'roleplay', 'prywatny serwer', 'kopanie']}, {'label': 'cs', 'tags': ['sklep', 'loot', 'drużyna', 'tryb', 'bomba', 'oddziały', 'tickrate', 'aktualizacja']}, {'label': 'roblox', 'tags': ['esport', 'prywatny serwer', 'obby', 'snajper', 'biomy', 'bohaterowie', 'studio', 'loot']}, {'label': 'minecraft', 'tags': ['online', 'oddziały', 'mapa', 'smok', 'event', 'rankingi', 'questy', 'creepery']}, {'label': 'roblox', 'tags': ['pistolet', 'robuxy', 'waluta', 'lua', 'bohaterowie', 'oddziały', 'skiny', 'wydarzenia']}, {'label': 'cs', 'tags': ['awp', 'hardcore', 'przetrwanie', 'bomba', 'symulator', 'zombie', 'wyzwania', 'roleplay']}, {'label': 'lol', 'tags': ['nexus', 'rankedy', 'bohaterowie', 'wydarzenia', 'klocki', 'runy', 'sandbox', 'strzał w głowę']}, {'label': 'fortnite', 'tags': ['rankingi', 'hardcore', 'bohaterowie', 'symulator', 'slurp', 'burza', 'loot', 'pistolet']}, {'label': 'cs', 'tags': ['wyzwania', 'parkour', 'roleplay', 'dust2', 'oddziały', 'multiplayer', 'bomba', 'event']}, {'label': 'roblox', 'tags': ['loot', 'symulator', 'lua', 'oddziały', 'strzelanie', 'brokhaven', 'zombie', 'duety']}]\n"
          ]
        }
      ],
      "source": [
        "import json\n",
        "import pandas as pd\n",
        "\n",
        "df = pd.read_json('tagi_gier_wspoldzielone.json')\n",
        "df.head()\n",
        "\n",
        "with open('tagi_gier_wspoldzielone.json') as f:\n",
        "    data = json.load(f)\n",
        "\n",
        "print(data)"
      ]
    },
    {
      "cell_type": "code",
      "source": [
        "df.head()"
      ],
      "metadata": {
        "colab": {
          "base_uri": "https://localhost:8080/",
          "height": 206
        },
        "id": "Limdezd9_8uL",
        "outputId": "76e1037c-5465-425d-9ceb-0a3c265f6d51"
      },
      "execution_count": 8,
      "outputs": [
        {
          "output_type": "execute_result",
          "data": {
            "text/plain": [
              "       label                                               tags\n",
              "0  minecraft  [rankingi, sandbox, pistolet, event, smok, dia...\n",
              "1   fortnite  [tryb solo, snajper, online, autobus bojowy, m...\n",
              "2   fortnite  [sezon, kopanie, misje, drużyna, fortyfikacje,...\n",
              "3     roblox  [czat, karabin, tryb kreatywny, klocki, oddzia...\n",
              "4        lol  [przetrwanie, snajper, zombie, esport, skiny, ..."
            ],
            "text/html": [
              "\n",
              "  <div id=\"df-dc84db53-9e64-4692-858a-4f048f185c02\" class=\"colab-df-container\">\n",
              "    <div>\n",
              "<style scoped>\n",
              "    .dataframe tbody tr th:only-of-type {\n",
              "        vertical-align: middle;\n",
              "    }\n",
              "\n",
              "    .dataframe tbody tr th {\n",
              "        vertical-align: top;\n",
              "    }\n",
              "\n",
              "    .dataframe thead th {\n",
              "        text-align: right;\n",
              "    }\n",
              "</style>\n",
              "<table border=\"1\" class=\"dataframe\">\n",
              "  <thead>\n",
              "    <tr style=\"text-align: right;\">\n",
              "      <th></th>\n",
              "      <th>label</th>\n",
              "      <th>tags</th>\n",
              "    </tr>\n",
              "  </thead>\n",
              "  <tbody>\n",
              "    <tr>\n",
              "      <th>0</th>\n",
              "      <td>minecraft</td>\n",
              "      <td>[rankingi, sandbox, pistolet, event, smok, dia...</td>\n",
              "    </tr>\n",
              "    <tr>\n",
              "      <th>1</th>\n",
              "      <td>fortnite</td>\n",
              "      <td>[tryb solo, snajper, online, autobus bojowy, m...</td>\n",
              "    </tr>\n",
              "    <tr>\n",
              "      <th>2</th>\n",
              "      <td>fortnite</td>\n",
              "      <td>[sezon, kopanie, misje, drużyna, fortyfikacje,...</td>\n",
              "    </tr>\n",
              "    <tr>\n",
              "      <th>3</th>\n",
              "      <td>roblox</td>\n",
              "      <td>[czat, karabin, tryb kreatywny, klocki, oddzia...</td>\n",
              "    </tr>\n",
              "    <tr>\n",
              "      <th>4</th>\n",
              "      <td>lol</td>\n",
              "      <td>[przetrwanie, snajper, zombie, esport, skiny, ...</td>\n",
              "    </tr>\n",
              "  </tbody>\n",
              "</table>\n",
              "</div>\n",
              "    <div class=\"colab-df-buttons\">\n",
              "\n",
              "  <div class=\"colab-df-container\">\n",
              "    <button class=\"colab-df-convert\" onclick=\"convertToInteractive('df-dc84db53-9e64-4692-858a-4f048f185c02')\"\n",
              "            title=\"Convert this dataframe to an interactive table.\"\n",
              "            style=\"display:none;\">\n",
              "\n",
              "  <svg xmlns=\"http://www.w3.org/2000/svg\" height=\"24px\" viewBox=\"0 -960 960 960\">\n",
              "    <path d=\"M120-120v-720h720v720H120Zm60-500h600v-160H180v160Zm220 220h160v-160H400v160Zm0 220h160v-160H400v160ZM180-400h160v-160H180v160Zm440 0h160v-160H620v160ZM180-180h160v-160H180v160Zm440 0h160v-160H620v160Z\"/>\n",
              "  </svg>\n",
              "    </button>\n",
              "\n",
              "  <style>\n",
              "    .colab-df-container {\n",
              "      display:flex;\n",
              "      gap: 12px;\n",
              "    }\n",
              "\n",
              "    .colab-df-convert {\n",
              "      background-color: #E8F0FE;\n",
              "      border: none;\n",
              "      border-radius: 50%;\n",
              "      cursor: pointer;\n",
              "      display: none;\n",
              "      fill: #1967D2;\n",
              "      height: 32px;\n",
              "      padding: 0 0 0 0;\n",
              "      width: 32px;\n",
              "    }\n",
              "\n",
              "    .colab-df-convert:hover {\n",
              "      background-color: #E2EBFA;\n",
              "      box-shadow: 0px 1px 2px rgba(60, 64, 67, 0.3), 0px 1px 3px 1px rgba(60, 64, 67, 0.15);\n",
              "      fill: #174EA6;\n",
              "    }\n",
              "\n",
              "    .colab-df-buttons div {\n",
              "      margin-bottom: 4px;\n",
              "    }\n",
              "\n",
              "    [theme=dark] .colab-df-convert {\n",
              "      background-color: #3B4455;\n",
              "      fill: #D2E3FC;\n",
              "    }\n",
              "\n",
              "    [theme=dark] .colab-df-convert:hover {\n",
              "      background-color: #434B5C;\n",
              "      box-shadow: 0px 1px 3px 1px rgba(0, 0, 0, 0.15);\n",
              "      filter: drop-shadow(0px 1px 2px rgba(0, 0, 0, 0.3));\n",
              "      fill: #FFFFFF;\n",
              "    }\n",
              "  </style>\n",
              "\n",
              "    <script>\n",
              "      const buttonEl =\n",
              "        document.querySelector('#df-dc84db53-9e64-4692-858a-4f048f185c02 button.colab-df-convert');\n",
              "      buttonEl.style.display =\n",
              "        google.colab.kernel.accessAllowed ? 'block' : 'none';\n",
              "\n",
              "      async function convertToInteractive(key) {\n",
              "        const element = document.querySelector('#df-dc84db53-9e64-4692-858a-4f048f185c02');\n",
              "        const dataTable =\n",
              "          await google.colab.kernel.invokeFunction('convertToInteractive',\n",
              "                                                    [key], {});\n",
              "        if (!dataTable) return;\n",
              "\n",
              "        const docLinkHtml = 'Like what you see? Visit the ' +\n",
              "          '<a target=\"_blank\" href=https://colab.research.google.com/notebooks/data_table.ipynb>data table notebook</a>'\n",
              "          + ' to learn more about interactive tables.';\n",
              "        element.innerHTML = '';\n",
              "        dataTable['output_type'] = 'display_data';\n",
              "        await google.colab.output.renderOutput(dataTable, element);\n",
              "        const docLink = document.createElement('div');\n",
              "        docLink.innerHTML = docLinkHtml;\n",
              "        element.appendChild(docLink);\n",
              "      }\n",
              "    </script>\n",
              "  </div>\n",
              "\n",
              "\n",
              "    <div id=\"df-9e9e80f4-83cb-49d1-b366-ab3e51992945\">\n",
              "      <button class=\"colab-df-quickchart\" onclick=\"quickchart('df-9e9e80f4-83cb-49d1-b366-ab3e51992945')\"\n",
              "                title=\"Suggest charts\"\n",
              "                style=\"display:none;\">\n",
              "\n",
              "<svg xmlns=\"http://www.w3.org/2000/svg\" height=\"24px\"viewBox=\"0 0 24 24\"\n",
              "     width=\"24px\">\n",
              "    <g>\n",
              "        <path d=\"M19 3H5c-1.1 0-2 .9-2 2v14c0 1.1.9 2 2 2h14c1.1 0 2-.9 2-2V5c0-1.1-.9-2-2-2zM9 17H7v-7h2v7zm4 0h-2V7h2v10zm4 0h-2v-4h2v4z\"/>\n",
              "    </g>\n",
              "</svg>\n",
              "      </button>\n",
              "\n",
              "<style>\n",
              "  .colab-df-quickchart {\n",
              "      --bg-color: #E8F0FE;\n",
              "      --fill-color: #1967D2;\n",
              "      --hover-bg-color: #E2EBFA;\n",
              "      --hover-fill-color: #174EA6;\n",
              "      --disabled-fill-color: #AAA;\n",
              "      --disabled-bg-color: #DDD;\n",
              "  }\n",
              "\n",
              "  [theme=dark] .colab-df-quickchart {\n",
              "      --bg-color: #3B4455;\n",
              "      --fill-color: #D2E3FC;\n",
              "      --hover-bg-color: #434B5C;\n",
              "      --hover-fill-color: #FFFFFF;\n",
              "      --disabled-bg-color: #3B4455;\n",
              "      --disabled-fill-color: #666;\n",
              "  }\n",
              "\n",
              "  .colab-df-quickchart {\n",
              "    background-color: var(--bg-color);\n",
              "    border: none;\n",
              "    border-radius: 50%;\n",
              "    cursor: pointer;\n",
              "    display: none;\n",
              "    fill: var(--fill-color);\n",
              "    height: 32px;\n",
              "    padding: 0;\n",
              "    width: 32px;\n",
              "  }\n",
              "\n",
              "  .colab-df-quickchart:hover {\n",
              "    background-color: var(--hover-bg-color);\n",
              "    box-shadow: 0 1px 2px rgba(60, 64, 67, 0.3), 0 1px 3px 1px rgba(60, 64, 67, 0.15);\n",
              "    fill: var(--button-hover-fill-color);\n",
              "  }\n",
              "\n",
              "  .colab-df-quickchart-complete:disabled,\n",
              "  .colab-df-quickchart-complete:disabled:hover {\n",
              "    background-color: var(--disabled-bg-color);\n",
              "    fill: var(--disabled-fill-color);\n",
              "    box-shadow: none;\n",
              "  }\n",
              "\n",
              "  .colab-df-spinner {\n",
              "    border: 2px solid var(--fill-color);\n",
              "    border-color: transparent;\n",
              "    border-bottom-color: var(--fill-color);\n",
              "    animation:\n",
              "      spin 1s steps(1) infinite;\n",
              "  }\n",
              "\n",
              "  @keyframes spin {\n",
              "    0% {\n",
              "      border-color: transparent;\n",
              "      border-bottom-color: var(--fill-color);\n",
              "      border-left-color: var(--fill-color);\n",
              "    }\n",
              "    20% {\n",
              "      border-color: transparent;\n",
              "      border-left-color: var(--fill-color);\n",
              "      border-top-color: var(--fill-color);\n",
              "    }\n",
              "    30% {\n",
              "      border-color: transparent;\n",
              "      border-left-color: var(--fill-color);\n",
              "      border-top-color: var(--fill-color);\n",
              "      border-right-color: var(--fill-color);\n",
              "    }\n",
              "    40% {\n",
              "      border-color: transparent;\n",
              "      border-right-color: var(--fill-color);\n",
              "      border-top-color: var(--fill-color);\n",
              "    }\n",
              "    60% {\n",
              "      border-color: transparent;\n",
              "      border-right-color: var(--fill-color);\n",
              "    }\n",
              "    80% {\n",
              "      border-color: transparent;\n",
              "      border-right-color: var(--fill-color);\n",
              "      border-bottom-color: var(--fill-color);\n",
              "    }\n",
              "    90% {\n",
              "      border-color: transparent;\n",
              "      border-bottom-color: var(--fill-color);\n",
              "    }\n",
              "  }\n",
              "</style>\n",
              "\n",
              "      <script>\n",
              "        async function quickchart(key) {\n",
              "          const quickchartButtonEl =\n",
              "            document.querySelector('#' + key + ' button');\n",
              "          quickchartButtonEl.disabled = true;  // To prevent multiple clicks.\n",
              "          quickchartButtonEl.classList.add('colab-df-spinner');\n",
              "          try {\n",
              "            const charts = await google.colab.kernel.invokeFunction(\n",
              "                'suggestCharts', [key], {});\n",
              "          } catch (error) {\n",
              "            console.error('Error during call to suggestCharts:', error);\n",
              "          }\n",
              "          quickchartButtonEl.classList.remove('colab-df-spinner');\n",
              "          quickchartButtonEl.classList.add('colab-df-quickchart-complete');\n",
              "        }\n",
              "        (() => {\n",
              "          let quickchartButtonEl =\n",
              "            document.querySelector('#df-9e9e80f4-83cb-49d1-b366-ab3e51992945 button');\n",
              "          quickchartButtonEl.style.display =\n",
              "            google.colab.kernel.accessAllowed ? 'block' : 'none';\n",
              "        })();\n",
              "      </script>\n",
              "    </div>\n",
              "\n",
              "    </div>\n",
              "  </div>\n"
            ],
            "application/vnd.google.colaboratory.intrinsic+json": {
              "type": "dataframe",
              "variable_name": "df",
              "summary": "{\n  \"name\": \"df\",\n  \"rows\": 300,\n  \"fields\": [\n    {\n      \"column\": \"label\",\n      \"properties\": {\n        \"dtype\": \"category\",\n        \"num_unique_values\": 5,\n        \"samples\": [\n          \"fortnite\",\n          \"cs\",\n          \"roblox\"\n        ],\n        \"semantic_type\": \"\",\n        \"description\": \"\"\n      }\n    },\n    {\n      \"column\": \"tags\",\n      \"properties\": {\n        \"dtype\": \"object\",\n        \"semantic_type\": \"\",\n        \"description\": \"\"\n      }\n    }\n  ]\n}"
            }
          },
          "metadata": {},
          "execution_count": 8
        }
      ]
    },
    {
      "cell_type": "code",
      "source": [
        "'''\n",
        "{\n",
        "    \"label\": \"minecraft\"\n",
        "    \"tags\": [\n",
        "        \"rankingi\",\n",
        "        \"sandbox\",\n",
        "        \"event\",\n",
        "        ...\n",
        "    ]\n",
        "}\n",
        "'''\n"
      ],
      "metadata": {
        "id": "ciphEIN4FtUr",
        "colab": {
          "base_uri": "https://localhost:8080/",
          "height": 54
        },
        "outputId": "e61692a0-f68b-48e9-eaf0-b7979ea1e67f"
      },
      "execution_count": 9,
      "outputs": [
        {
          "output_type": "execute_result",
          "data": {
            "text/plain": [
              "'\\n{\\n    \"label\": \"minecraft\"\\n    \"tags\": [\\n        \"rankingi\",\\n        \"sandbox\",\\n        \"event\",\\n        ...\\n    ]\\n}\\n'"
            ],
            "application/vnd.google.colaboratory.intrinsic+json": {
              "type": "string"
            }
          },
          "metadata": {},
          "execution_count": 9
        }
      ]
    },
    {
      "cell_type": "code",
      "source": [
        "count = {}\n",
        "\n",
        "for game in data:\n",
        "    label = game[\"label\"]\n",
        "    if label not in count:\n",
        "        count[label] = 0\n",
        "    count[label] += 1\n",
        "\n",
        "print(len(data))\n",
        "print(len(count))"
      ],
      "metadata": {
        "colab": {
          "base_uri": "https://localhost:8080/"
        },
        "id": "5AXWP_UmCu2e",
        "outputId": "e20462e9-8825-4cd5-d918-64339d3e397d"
      },
      "execution_count": 10,
      "outputs": [
        {
          "output_type": "stream",
          "name": "stdout",
          "text": [
            "300\n",
            "5\n"
          ]
        }
      ]
    },
    {
      "cell_type": "code",
      "source": [
        "for label in count:\n",
        "    print(label, count[label])"
      ],
      "metadata": {
        "colab": {
          "base_uri": "https://localhost:8080/"
        },
        "id": "YjU_JlRpGeSD",
        "outputId": "e8d858db-b91e-4c84-f0c1-2e5fcdc292ff"
      },
      "execution_count": 11,
      "outputs": [
        {
          "output_type": "stream",
          "name": "stdout",
          "text": [
            "minecraft 60\n",
            "fortnite 60\n",
            "roblox 60\n",
            "lol 60\n",
            "cs 60\n"
          ]
        }
      ]
    },
    {
      "cell_type": "code",
      "source": [
        "tag_count = {}\n",
        "for game in data:\n",
        "    tags = game[\"tags\"]\n",
        "    for tag in tags:\n",
        "        if tag not in tag_count:\n",
        "            tag_count[tag] = 0\n",
        "        tag_count[tag] += 1\n",
        "\n",
        "print(len(tag_count))"
      ],
      "metadata": {
        "id": "ov3xOlvoV5-4",
        "colab": {
          "base_uri": "https://localhost:8080/"
        },
        "outputId": "24395976-343d-465e-e79f-c6d098bde84c"
      },
      "execution_count": 12,
      "outputs": [
        {
          "output_type": "stream",
          "name": "stdout",
          "text": [
            "74\n"
          ]
        }
      ]
    },
    {
      "cell_type": "code",
      "source": [
        "import math\n",
        "import random\n",
        "\n",
        "def load_path(path):\n",
        "    with open(path, encoding=\"utf-8\") as f:\n",
        "        data = json.load(f)\n",
        "    return data\n",
        "\n",
        "def train_test_split(data, test_ratio = 0.2):\n",
        "    random.shuffle(data)\n",
        "    cut = int(len(data) * (1-test_ratio))\n",
        "\n",
        "    print(f\"Ilość próbek zbioru treningowego: {len(data[:cut])}\")\n",
        "    print(f\"Ilość próbek zbioru testowego: {len(data[cut:])}\")\n",
        "    return data[cut:], data[:cut]\n",
        "\n",
        "def build_vocabulary(train):\n",
        "    vocab = set()\n",
        "    for rec in train:\n",
        "        vocab.update(rec[\"tags\"])\n",
        "    print(vocab)\n",
        "    return vocab\n",
        "\n",
        "def train_naive_bayes(train, vocab, alpha = 0.1):\n",
        "    '''Klasyfikacja gier na podstawie tagów'''\n",
        "    class_count = {}\n",
        "    word_counts = {}\n",
        "    total_words = {}\n",
        "    for rec in train:\n",
        "        c = rec[\"label\"]\n",
        "        class_count[c] = class_count.get(c, 0) + 1\n",
        "\n",
        "        word_counts.setdefault(c, {}) # wartość startowa pusty słownik\n",
        "        total_words.setdefault(c, 0) # wartość początkowa na 0\n",
        "\n",
        "        for tag in rec[\"tags\"]:\n",
        "            word_counts[c][tag] = word_counts[c].get(tag, 0) + 1\n",
        "            total_words[c] += 1\n",
        "\n",
        "        model = {\n",
        "            \"class_counts\": class_count,\n",
        "            \"words_counts\": word_counts,\n",
        "            \"total_words\": total_words,\n",
        "            \"vocab\": vocab,\n",
        "            \"alpha\": alpha,\n",
        "            \"total_docs\": len(train)\n",
        "        }\n",
        "        print(model)\n",
        "        return model\n",
        "\n",
        "    def log_prob(model, rec, class_name):\n",
        "        #podstawowe pradopodobieństwo\n",
        "        log_prob = math.log(model[\"class_counts\"][class_name] / model[\"total_docs\"])\n",
        "        V = len(model[\"vocab\"])\n",
        "        a = model[\"alpha\"]\n",
        "        #prawdopodobieństwo warunkowe tag|klasa\n",
        "        for tag in rec[\"tags\"]:\n",
        "            word_count = model[\"words_counts\"][class_name].get(tag, 0)\n",
        "            log_prob += math.log((word_count + a) / (model[\"total_words\"][class_name] + a * V))\n",
        "        return log_prob\n",
        "\n",
        "    def predict(model, rec):\n",
        "        best_class = None\n",
        "        best_log = None\n",
        "        for c in model[\"class_counts\"]:\n",
        "            log_p = log_prob(model, rec, c)\n",
        "            if lp > best_log:\n",
        "                best_log = lp\n",
        "                best_class = c\n",
        "        return best_class"
      ],
      "metadata": {
        "id": "EiVRu-Yxa7lT"
      },
      "execution_count": 29,
      "outputs": []
    },
    {
      "cell_type": "code",
      "source": [
        "def main():\n",
        "    path=\"tagi_gier_wspoldzielone.json\"\n",
        "    data = load_path(path)\n",
        "    train, test = train_test_split(data, test_ratio = 0.2)\n",
        "    vocab = build_vocabulary(train)\n",
        "    model = train_naive_bayes(train, vocab, alpha= 1.0)"
      ],
      "metadata": {
        "id": "WjZGf82KldBe"
      },
      "execution_count": 30,
      "outputs": []
    },
    {
      "cell_type": "code",
      "source": [
        "main()"
      ],
      "metadata": {
        "colab": {
          "base_uri": "https://localhost:8080/"
        },
        "id": "VqAPfaubdHDd",
        "outputId": "1a0951bd-b85a-4fca-c705-925d856178c5"
      },
      "execution_count": 31,
      "outputs": [
        {
          "output_type": "stream",
          "name": "stdout",
          "text": [
            "Ilość próbek zbioru treningowego: 240\n",
            "Ilość próbek zbioru testowego: 60\n",
            "{'prywatny serwer', 'snajper', 'kopanie', 'sklep', 'brokhaven', 'obby', 'ulti', 'autobus bojowy', 'przetrwanie', 'budowanie', 'emotki', 'misje', 'smok', 'multiplayer', 'event', 'tickrate', 'dust2', 'lama', 'crafting', 'nether', 'czat', 'drużyna', 'pistolet', 'wyzwania', 'tryb solo', 'runy', 'questy', 'strzelanie', 'kolekcje', 'flash', 'loot', 'duety', 'strzał w głowę', 'esport', 'roleplay', 'online', 'battle', 'nexus', 'klocki', 'tryb', 'v-bucksy', 'waluta', 'redstone', 'symulator', 'bohaterowie', 'rankedy', 'fortyfikacje', 'burza', 'aktualizacja', 'zombie', 'hardcore', 'dżungla', 'tryb kreatywny', 'karabin', 'skiny', 'baron', 'sezon', 'parkour', 'awp', 'rankingi', 'slurp', 'bomba', 'diamenty', 'robuxy', 'survival', 'oddziały', 'creepery', 'biomy', 'sandbox', 'mapa', 'studio', 'lua', 'wydarzenia', 'arena'}\n",
            "{'class_counts': {'cs': 1}, 'words_counts': {'cs': {'multiplayer': 1, 'crafting': 1, 'tryb solo': 1, 'hardcore': 1, 'awp': 1, 'flash': 1, 'przetrwanie': 1, 'sklep': 1}}, 'total_words': {'cs': 8}, 'vocab': {'prywatny serwer', 'snajper', 'kopanie', 'sklep', 'brokhaven', 'obby', 'ulti', 'autobus bojowy', 'przetrwanie', 'budowanie', 'emotki', 'misje', 'smok', 'multiplayer', 'event', 'tickrate', 'dust2', 'lama', 'crafting', 'nether', 'czat', 'drużyna', 'pistolet', 'wyzwania', 'tryb solo', 'runy', 'questy', 'strzelanie', 'kolekcje', 'flash', 'loot', 'duety', 'strzał w głowę', 'esport', 'roleplay', 'online', 'battle', 'nexus', 'klocki', 'tryb', 'v-bucksy', 'waluta', 'redstone', 'symulator', 'bohaterowie', 'rankedy', 'fortyfikacje', 'burza', 'aktualizacja', 'zombie', 'hardcore', 'dżungla', 'tryb kreatywny', 'karabin', 'skiny', 'baron', 'sezon', 'parkour', 'awp', 'rankingi', 'slurp', 'bomba', 'diamenty', 'robuxy', 'survival', 'oddziały', 'creepery', 'biomy', 'sandbox', 'mapa', 'studio', 'lua', 'wydarzenia', 'arena'}, 'alpha': 1.0, 'total_docs': 60}\n"
          ]
        }
      ]
    }
  ]
}